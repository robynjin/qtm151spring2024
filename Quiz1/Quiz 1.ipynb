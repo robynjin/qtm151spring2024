{
 "cells": [
  {
   "attachments": {},
   "cell_type": "markdown",
   "metadata": {},
   "source": [
    "# <span style=\"color:darkblue\"> QTM 151 - Quiz 1 </span>"
   ]
  },
  {
   "attachments": {},
   "cell_type": "markdown",
   "metadata": {},
   "source": [
    "## Submit as an HTML file"
   ]
  },
  {
   "attachments": {},
   "cell_type": "markdown",
   "metadata": {},
   "source": [
    "<font size=\"5\"> \n",
    "\n",
    "Print your name below"
   ]
  },
  {
   "cell_type": "code",
   "execution_count": 2,
   "metadata": {},
   "outputs": [
    {
     "name": "stdout",
     "output_type": "stream",
     "text": [
      "Robyn Jin\n"
     ]
    }
   ],
   "source": [
    "# Write your answer here\n",
    "\n",
    "print('Robyn Jin')\n"
   ]
  },
  {
   "attachments": {},
   "cell_type": "markdown",
   "metadata": {},
   "source": [
    "<font size = \"5\" >\n",
    "This quiz is open book \n",
    "\n",
    "- You can use the lecture notes\n",
    "- You will get partial credit for attempting the questions\n",
    "- To get full credit, the code should your as intended\n",
    "- You should <span style=\"color:red\"> NOT </span> communicate with other students\n",
    "\n",
    "Print the following message: <br>\n",
    "\n",
    "\"I will abide by Emory's code of conduct\"\n"
   ]
  },
  {
   "cell_type": "code",
   "execution_count": 2,
   "metadata": {},
   "outputs": [
    {
     "name": "stdout",
     "output_type": "stream",
     "text": [
      "I will abide by Emory's code of conduct\n"
     ]
    }
   ],
   "source": [
    "# Write your answer here:\n",
    "\n",
    "print(\"I will abide by Emory's code of conduct\")\n"
   ]
  },
  {
   "attachments": {},
   "cell_type": "markdown",
   "metadata": {},
   "source": [
    "<font size = \"5\">\n",
    "\n",
    "Import the libraries \"numpy\", \"matplotlib.pytplot\", and \"pandas\""
   ]
  },
  {
   "cell_type": "code",
   "execution_count": 4,
   "metadata": {},
   "outputs": [],
   "source": [
    "# Write your answer here\n",
    "\n",
    "import numpy as np\n",
    "import matplotlib.pyplot as plt\n",
    "import pandas as pd\n"
   ]
  },
  {
   "attachments": {},
   "cell_type": "markdown",
   "metadata": {},
   "source": [
    "<font size = \"5\">\n",
    "\n",
    "(a) Transform a list of values and plot it\n",
    "\n",
    "<font size = \"3\">\n",
    "\n",
    "- Create an array with the following values\n",
    "\n",
    "``` vec_x = [-5,-3, 0, 10, 20, 40] ```\n",
    "\n",
    "- Create a new vector ```vec_y``` with the following formula\n",
    "\n",
    "$\\qquad y = [cos(x)]^2$\n",
    "\n",
    "- Produce a scatter plot of \"vec_y\" against \"vec_x\"\n",
    "- Label the axes and the title\n",
    "- Change the color to \"red\", \"green\" or \"purple\" (you choose)\n",
    "\n",
    "Hint: You can use the numpy functions"
   ]
  },
  {
   "cell_type": "code",
   "execution_count": 5,
   "metadata": {},
   "outputs": [
    {
     "data": {
      "image/png": "[encoded data removed]",
      "text/plain": [
       "<Figure size 640x480 with 1 Axes>"
      ]
     },
     "metadata": {},
     "output_type": "display_data"
    }
   ],
   "source": [
    "# Write your answer here:\n",
    "\n",
    "vec_x = [-5, -3, 0, 10, 20, 40]\n",
    "x = np.array(vec_x)\n",
    "vec_y = (np.cos(x)) ** 2\n",
    "\n",
    "is_graph_red = True\n",
    "\n",
    "if is_graph_red:\n",
    "    plt.scatter(x = vec_x, y = vec_y, color=\"red\")\n",
    "    plt.title(\"Y vs. X\")\n",
    "    plt.xlabel(\"X-values\")\n",
    "    plt.ylabel(\"Y-values\")\n",
    "    plt.show() \n",
    "else:\n",
    "    plt.scatter(x = vec_x, y = vec_y, color=\"purple\")\n",
    "    plt.title(\"Y vs. X\")\n",
    "    plt.xlabel(\"X-values\")\n",
    "    plt.ylabel(\"Y-values\")\n",
    "    plt.show()\n"
   ]
  },
  {
   "cell_type": "markdown",
   "metadata": {},
   "source": [
    "<font size = \"5\">\n",
    "\n",
    "(b) IF/ELSE statements\n",
    "\n",
    "<font size = \"3\">\n",
    "\n",
    "- Create two lists: \n",
    "\n",
    "``` list_fruits = [\"apple\",\"orange\",\"pear\",\"banana\"] ``` <br>\n",
    "``` list_colors = [\"blue\",\"red\",\"green\",\"orange\"] ```\n",
    "\n",
    "- Create a new variable ``` message = \"orange\" ```\n",
    "- Create an if/else that tests whether ``` message ``` is a <br>\n",
    "fruit and a color.  Print a message if the test is true.\n",
    "\n",
    "HINT: Use the \"in\" command to test whether an element is part <br>\n",
    "of a list (see Lecture 4) \n",
    "\n",
    "\n"
   ]
  },
  {
   "cell_type": "code",
   "execution_count": 6,
   "metadata": {},
   "outputs": [
    {
     "name": "stdout",
     "output_type": "stream",
     "text": [
      "This is a fruit and a color.\n"
     ]
    }
   ],
   "source": [
    "# Write your answer here:\n",
    "\n",
    "list_fruits = [\"apple\",\"orange\",\"pear\",\"banana\"]\n",
    "list_colors = [\"blue\",\"red\",\"green\",\"orange\"]\n",
    "\n",
    "message = \"orange\"\n",
    "\n",
    "if (message in list_fruits) & (message in list_colors): \n",
    "    print(\"This is a fruit and a color.\")\n"
   ]
  },
  {
   "attachments": {},
   "cell_type": "markdown",
   "metadata": {},
   "source": [
    "<font size = \"5\">\n",
    "\n",
    "(c) Plot random variables ...\n",
    "\n",
    "<font size = \"3\">\n",
    "\n",
    "- Let $n = 1000$\n",
    "- Generate \"vec_x\" from a Normal with (loc = 2, scale = 1, size = n)\n",
    "- Generate \"vec_z\" from a chi square with (df = 2, size = n)\n",
    "- Generate \"vex_y\" from a uniform with  (low = 5,high = 10, size = n)\n",
    "- Plot two scatter plots: (vec_y vs vec_x) and (vec_z vs vec_x)\n",
    "    - Label the axes and title\n",
    "    - Each graph should have a different title\n",
    " \n",
    "To get full points, plot the histograms on a single row using the <br>\n",
    "subplots syntax (see Lecture 6)"
   ]
  },
  {
   "cell_type": "code",
   "execution_count": 11,
   "metadata": {},
   "outputs": [
    {
     "ename": "IndexError",
     "evalue": "index 2 is out of bounds for axis 0 with size 2",
     "output_type": "error",
     "traceback": [
      "\u001b[1;31m---------------------------------------------------------------------------\u001b[0m",
      "\u001b[1;31mIndexError\u001b[0m                                Traceback (most recent call last)",
      "Cell \u001b[1;32mIn[11], line 17\u001b[0m\n\u001b[0;32m     15\u001b[0m         vec_y \u001b[38;5;241m=\u001b[39m np\u001b[38;5;241m.\u001b[39mrandom\u001b[38;5;241m.\u001b[39muniform(low \u001b[38;5;241m=\u001b[39m \u001b[38;5;241m5\u001b[39m, high \u001b[38;5;241m=\u001b[39m \u001b[38;5;241m10\u001b[39m, size \u001b[38;5;241m=\u001b[39m n)\n\u001b[0;32m     16\u001b[0m         vec_z  \u001b[38;5;241m=\u001b[39m np\u001b[38;5;241m.\u001b[39mrandom\u001b[38;5;241m.\u001b[39mchisquare(df \u001b[38;5;241m=\u001b[39m \u001b[38;5;241m2\u001b[39m, size \u001b[38;5;241m=\u001b[39m n)\n\u001b[1;32m---> 17\u001b[0m list_subfig[index]\u001b[38;5;241m.\u001b[39mhist(vec_x)\n\u001b[0;32m     18\u001b[0m list_subfig[index]\u001b[38;5;241m.\u001b[39mset_title(\u001b[38;5;124m\"\u001b[39m\u001b[38;5;124mVec_x vs. \u001b[39m\u001b[38;5;124m\"\u001b[39m)\n\u001b[0;32m     19\u001b[0m list_subfig[index]\u001b[38;5;241m.\u001b[39mset_ylabel(\u001b[38;5;124m\"\u001b[39m\u001b[38;5;124mFrequency\u001b[39m\u001b[38;5;124m\"\u001b[39m)\n",
      "\u001b[1;31mIndexError\u001b[0m: index 2 is out of bounds for axis 0 with size 2"
     ]
    },
    {
     "data": {
      "image/png": "[encoded data removed]",
      "text/plain": [
       "<Figure size 1200x300 with 2 Axes>"
      ]
     },
     "metadata": {},
     "output_type": "display_data"
    }
   ],
   "source": [
    "# Write your answer here:\n",
    "\n",
    "n = 1000\n",
    "vec_x = np.random.normal(loc = 2, scale = 1, size = n)\n",
    "vec_z = np.random.chisquare(df = 2, size = n)\n",
    "vec_y = np.random.uniform(low = 5, high = 10, size = n)\n",
    "vec_yz = np.array([vec_y, vec_z])\n",
    "\n",
    "fig, list_subfig = plt.subplots(1,2,figsize = [12,3])\n",
    "plt.tight_layout()\n",
    "\n",
    "index = 0\n",
    "for x in vec_x:  \n",
    "    for iteration in range(n):\n",
    "            vec_y = np.random.uniform(low = 5, high = 10, size = n)\n",
    "            vec_z  = np.random.chisquare(df = 2, size = n)\n",
    "    list_subfig[index].hist(vec_x)\n",
    "    list_subfig[index].set_title(\"Vec_x vs. \")\n",
    "    list_subfig[index].set_ylabel(\"Frequency\")\n",
    "    list_subfig[index].set_xlabel(\"Values of X\")\n",
    "    index = index + 1\n",
    "\n"
   ]
  },
  {
   "cell_type": "markdown",
   "metadata": {},
   "source": [
    "<font size = \"5\">\n",
    "\n",
    "(d) Create the following list of months\n",
    "\n",
    "<font size = \"3\">\n",
    "\n",
    "``` list_months = [\"August\",\"February\"] ``` <br>\n",
    "``` list_spring_semester = [\"January\",\"February\", \"March\",\"April\",\"May\"] ```\n",
    "\n",
    "Create a for-loop that checks whether each element of ```list_months ``` <br>\n",
    "belongs to the spring semester. Create a message with this result. The output <br>\n",
    "generated by your loop should look like this:\n",
    "\n",
    "\"August is NOT part of the Spring semester\" <br>\n",
    "\"February is part of the Spring semester\" <br>\n",
    "\n",
    "HINT: Use if/else statements inside the loop. <br>\n",
    "You can use the command \"in\" (see Lecture 4) to test whether <br>\n",
    "an element belongs to a list\n"
   ]
  },
  {
   "cell_type": "code",
   "execution_count": null,
   "metadata": {},
   "outputs": [
    {
     "name": "stdout",
     "output_type": "stream",
     "text": [
      "August is NOT part of the Spring semester\n",
      "February is part of the Spring semester\n"
     ]
    }
   ],
   "source": [
    "# Write your answer here:\n",
    "\n",
    "list_months = [\"August\",\"February\"]\n",
    "list_spring_semester = [\"January\",\"February\",\"March\",\"April\",\"May\"]\n",
    "\n",
    "for month in list_months: \n",
    "    if month in list_spring_semester: \n",
    "        print(month + \" is part of the Spring semester\")\n",
    "    else: \n",
    "        print(month + \" is NOT part of the Spring semester\")"
   ]
  },
  {
   "attachments": {},
   "cell_type": "markdown",
   "metadata": {},
   "source": [
    "<font size = \"5\">\n",
    "\n",
    "(e) Loop through dfferent variables and plot\n",
    "\n",
    "\n",
    "<font size = \"3\">\n",
    "\n",
    "- Read the dataset \"data_quiz/wdi_ageprop_2020.csv\"\n",
    "- Create a list of variable names with the following elements:\n",
    "\n",
    "``` list_varnames = [\"percent_ages0to14\",\"percent_ages15to64\"]  ```\n",
    "\n",
    "- Run a for loop that creates a histogram plot for each of the <br>\n",
    "variables on the list\n",
    "\n",
    "    - Label the axes (the y-axis can be called \"Frequency\")\n",
    "    - The loop should automatically create titles that look like this\n",
    "\n",
    "    \"Distribution for percent_ages0to14\" <br>\n",
    "    \"Distribution for percent_ages15to64\"\n",
    "\n",
    "\n",
    "Note: This exercise tells you how much the proportion of the populaton <br>\n",
    "in different ages varies across countries in 2020"
   ]
  },
  {
   "cell_type": "code",
   "execution_count": null,
   "metadata": {},
   "outputs": [
    {
     "data": {
      "image/png": "[encoded data removed]",
      "text/plain": [
       "<Figure size 640x480 with 1 Axes>"
      ]
     },
     "metadata": {},
     "output_type": "display_data"
    },
    {
     "data": {
      "image/png": "[encoded data removed]",
      "text/plain": [
       "<Figure size 640x480 with 1 Axes>"
      ]
     },
     "metadata": {},
     "output_type": "display_data"
    }
   ],
   "source": [
    "# Write your answer here:\n",
    "\n",
    "wdi = pd.read_csv(\"data_quiz/wdi_ageprop_2020.csv\")\n",
    "list_varnames = [\"percent_ages0to14\",\"percent_ages15to64\"]\n",
    "\n",
    "for name in list_varnames: \n",
    "    plt.hist(x = wdi[name])\n",
    "    plt.ylabel(\"Frequency\")\n",
    "    plt.xlabel(name)\n",
    "    plt.title(\"Distribution for \" + str(name))\n",
    "    plt.show()\n",
    "    "
   ]
  },
  {
   "cell_type": "markdown",
   "metadata": {},
   "source": [
    "<font size = \"5\">\n",
    "\n",
    "(f) Run loop through different datasets and compute statistics\n",
    "\n",
    "<font size = \"3\">\n",
    "\n",
    "- Create a list with the \".csv\" dataset names (including their relative subfolder \"data_quiz/)\n",
    "- Run a for-loop over the list of dataset names. Inside the loop:\n",
    "    - Read the corresponding \".csv\" dataset.\n",
    "    - Print the mean of the variable \"percent_ages0to14\" in <br>\n",
    "    each dataset\n",
    "\n",
    "Note: This exercise tells you how much the proportion of the <br>\n",
    "population that is between 0 and 14 has varied <br>\n",
    "from year to year using real data from the World Development Index.\n",
    "\n"
   ]
  },
  {
   "cell_type": "code",
   "execution_count": 10,
   "metadata": {},
   "outputs": [
    {
     "name": "stdout",
     "output_type": "stream",
     "text": [
      "36.82095078354717\n",
      "32.17265501184906\n",
      "26.90657125728302\n"
     ]
    }
   ],
   "source": [
    "# Write your answer here:\n",
    "\n",
    "list_csv = [\"data_quiz/wdi_ageprop_1980.csv\",\"data_quiz/wdi_ageprop_2000.csv\",\"data_quiz/wdi_ageprop_2020.csv\"]\n",
    "\n",
    "for csv in list_csv: \n",
    "    read = pd.read_csv(csv)\n",
    "    print(read[\"percent_ages0to14\"].mean())\n"
   ]
  }
 ],
 "metadata": {
  "kernelspec": {
   "display_name": "base",
   "language": "python",
   "name": "python3"
  },
  "language_info": {
   "codemirror_mode": {
    "name": "ipython",
    "version": 3
   },
   "file_extension": ".py",
   "mimetype": "text/x-python",
   "name": "python",
   "nbconvert_exporter": "python",
   "pygments_lexer": "ipython3",
   "version": "3.11.5"
  },
  "orig_nbformat": 4,
  "vscode": {
   "interpreter": {
    "hash": "45fc1f684f6f416f40889115beff3ddf69879b64cf4bfee48cb72a61e9d15d1a"
   }
  }
 },
 "nbformat": 4,
 "nbformat_minor": 2
}
