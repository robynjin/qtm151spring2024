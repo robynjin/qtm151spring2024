{
 "cells": [
  {
   "attachments": {},
   "cell_type": "markdown",
   "metadata": {},
   "source": [
    "# <span style=\"color:darkblue\"> Lecture 3: Mathematical Operations and Random Numbers </span>"
   ]
  },
  {
   "attachments": {},
   "cell_type": "markdown",
   "metadata": {},
   "source": [
    "<font size=\"5\"> \n",
    "\n",
    "In the previous class we:\n",
    "- Introduced lists and variable types\n",
    "- Talked about how to extract elements from a list"
   ]
  },
  {
   "attachments": {},
   "cell_type": "markdown",
   "metadata": {},
   "source": [
    "<font size=\"5\"> \n",
    "\n",
    "In this class we will:\n",
    "\n",
    "- Introduce a library for general mathematical operations\n",
    "- Generate random numbers\n",
    "- (Optional) Matrix operations"
   ]
  },
  {
   "attachments": {},
   "cell_type": "markdown",
   "metadata": {},
   "source": [
    "## <span style=\"color:darkblue\"> I. Import Libraries </span>"
   ]
  },
  {
   "cell_type": "code",
   "execution_count": 1,
   "metadata": {},
   "outputs": [],
   "source": [
    "# the \"numPy\" library is used for mathematical operations\n",
    "# the \"matplotlib\" library is for generating graphs\n",
    "\n",
    "import numpy as np\n",
    "import matplotlib.pyplot as plt\n"
   ]
  },
  {
   "attachments": {},
   "cell_type": "markdown",
   "metadata": {},
   "source": [
    "##  <span style=\"color:darkblue\"> II. Numbers and Functions </span>"
   ]
  },
  {
   "attachments": {},
   "cell_type": "markdown",
   "metadata": {},
   "source": [
    "<font size = \"5\" >\n",
    "Examples of numPy numbers"
   ]
  },
  {
   "cell_type": "code",
   "execution_count": 2,
   "metadata": {},
   "outputs": [
    {
     "data": {
      "text/plain": [
       "3.141592653589793"
      ]
     },
     "execution_count": 2,
     "metadata": {},
     "output_type": "execute_result"
    }
   ],
   "source": [
    "# Computes \"pi\" (3.14...)\n",
    "\n",
    "np.pi"
   ]
  },
  {
   "attachments": {},
   "cell_type": "markdown",
   "metadata": {},
   "source": [
    "<font size = \"5\" >\n",
    "\n",
    "Examples of numPy functions\n",
    "\n",
    "$ ln(x), e^x, sin(x), cos(x), \\sqrt{x}$"
   ]
  },
  {
   "cell_type": "code",
   "execution_count": 3,
   "metadata": {},
   "outputs": [
    {
     "name": "stdout",
     "output_type": "stream",
     "text": [
      "0.0\n",
      "2.718281828459045\n",
      "0.8414709848078965\n",
      "0.5403023058681398\n",
      "1.0\n"
     ]
    }
   ],
   "source": [
    "# log(x) computes the logarithm with base \"e\" (Euler constant)\n",
    "# exp(x) compute the Euler constant raised to the power of \"x\"\n",
    "# sing(x) computes the sine of x\n",
    "# cos(x) computes the cosine of x\n",
    "# In this example, we're substituting x = 1\n",
    "\n",
    "print(np.log(1))\n",
    "print(np.exp(1))\n",
    "print(np.sin(1))\n",
    "print(np.cos(1))\n",
    "print(np.sqrt(1))"
   ]
  },
  {
   "cell_type": "markdown",
   "metadata": {},
   "source": [
    "<font size = \"5\">\n",
    "\n",
    "Raising to the power of a number\n",
    "\n",
    "$ x^5 $"
   ]
  },
  {
   "cell_type": "code",
<<<<<<< HEAD
   "execution_count": 4,
=======
   "execution_count": 6,
>>>>>>> upstream/main
   "metadata": {},
   "outputs": [
    {
     "data": {
      "text/plain": [
       "100000"
      ]
     },
<<<<<<< HEAD
     "execution_count": 4,
=======
     "execution_count": 6,
>>>>>>> upstream/main
     "metadata": {},
     "output_type": "execute_result"
    }
   ],
   "source": [
    "x = 10\n",
    "x ** 5\n",
<<<<<<< HEAD
=======
    "\n",
>>>>>>> upstream/main
    "# Not x^5"
   ]
  },
  {
   "attachments": {},
   "cell_type": "markdown",
   "metadata": {},
   "source": [
    "<font size = \"5\">\n",
    "\n",
    "Try it yourself!\n",
    "\n",
    "- Create a new variable, $x = 5$\n",
    "- Compute $\\pi x^2$\n",
    "- Compute $ \\frac{1}{\\sqrt{2\\pi}}e^{-x^2} $"
   ]
  },
  {
   "cell_type": "code",
<<<<<<< HEAD
   "execution_count": 13,
=======
   "execution_count": 9,
>>>>>>> upstream/main
   "metadata": {},
   "outputs": [
    {
     "name": "stdout",
     "output_type": "stream",
     "text": [
      "78.53981633974483\n",
      "5.540487995575833e-12\n"
     ]
    }
   ],
   "source": [
    "# Write your own code\n",
    "\n",
    "x = 5\n",
<<<<<<< HEAD
    "print(np.pi * (x ** 2))\n",
    "print((1/np.sqrt(2*np.pi))* np.exp(-x**2))"
=======
    "print( np.pi * (x**2))\n",
    "\n",
    "print( (1/np.sqrt(2*np.pi))* np.exp(-x**2) )\n",
    "\n"
>>>>>>> upstream/main
   ]
  },
  {
   "attachments": {},
   "cell_type": "markdown",
   "metadata": {},
   "source": [
    "##  <span style=\"color:darkblue\"> III. Vector Arrays </span>"
   ]
  },
  {
   "attachments": {},
   "cell_type": "markdown",
   "metadata": {},
   "source": [
    "<font size = \"5\">\n",
    "Create an array from a list\n",
    "\n",
    "$ \\text{ }$\n",
    "$ a = \\begin{pmatrix} 1 \\\\ 2 \\\\ 3 \\end{pmatrix}\n",
    "\\qquad b = \\begin{pmatrix} 0 \\\\ 1 \\\\ 0\\end{pmatrix}\n",
    "\\qquad c = \\begin{pmatrix} 10 \\\\ 100 \\\\ 1000 \\\\ 2000 \\\\ 5000 \\end{pmatrix} \n",
    "\\qquad d = \\begin{pmatrix} 4 \\\\ 2 \\end{pmatrix} $"
   ]
  },
  {
   "cell_type": "code",
<<<<<<< HEAD
   "execution_count": 14,
=======
   "execution_count": 11,
>>>>>>> upstream/main
   "metadata": {},
   "outputs": [],
   "source": [
    "# You create an array by converting a list [1,2,3] to a numeric object\n",
    "# \"array\" is a subfunction of the library numPy.\n",
    "\n",
    "vec_a  = np.array([1,2,3])\n",
    "vec_b  = np.array([0,1,0])\n",
    "vec_c  = np.array([10,100,1000,2000,5000 ])\n"
   ]
  },
  {
   "attachments": {},
   "cell_type": "markdown",
   "metadata": {},
   "source": [
    "<font size = \"5\">\n",
    "\n",
    "Accessing an element of an array"
   ]
  },
  {
   "cell_type": "code",
<<<<<<< HEAD
   "execution_count": 15,
=======
   "execution_count": 13,
>>>>>>> upstream/main
   "metadata": {},
   "outputs": [
    {
     "name": "stdout",
     "output_type": "stream",
     "text": [
      "1\n",
      "3\n"
     ]
    }
   ],
   "source": [
    "# Arrays, like lists, start their numbering at zero.\n",
    "# You also access them with square brackets\n",
    "\n",
    "print(vec_a[0])\n",
    "print(vec_a[2])\n"
   ]
  },
  {
   "attachments": {},
   "cell_type": "markdown",
   "metadata": {},
   "source": [
    "<font size = \"5\">\n",
    "Operations with a single array and a scalar"
   ]
  },
  {
   "attachments": {},
   "cell_type": "markdown",
   "metadata": {},
   "source": [
    "<font size = \"5\">\n",
    "\n",
    "$ a + 2 = \\begin{pmatrix} a_1 + 2 \\\\ a_2 + 2 \\\\ a_3 + 2 \\end{pmatrix}$"
   ]
  },
  {
   "cell_type": "code",
<<<<<<< HEAD
   "execution_count": 16,
=======
   "execution_count": 14,
>>>>>>> upstream/main
   "metadata": {},
   "outputs": [
    {
     "name": "stdout",
     "output_type": "stream",
     "text": [
      "[2 4 6]\n",
      "[0.5 1.  1.5]\n",
      "[3 4 5]\n",
      "[1 4 9]\n"
     ]
    }
   ],
   "source": [
    "# A scalar refers to either an int or float\n",
    "# We can do many common operations with \n",
    "\n",
    "print(vec_a * 2)\n",
    "print(vec_a / 2)\n",
    "print(vec_a + 2)\n",
    "print(vec_a ** 2)"
   ]
  },
  {
   "attachments": {},
   "cell_type": "markdown",
   "metadata": {},
   "source": [
    "<font size = \"5\">\n",
    "Element-by-element addition between two arrays of the same size\n",
    "\n",
    "$\\text{ }$\n",
    "\n",
    "$ a + b = \\begin{pmatrix} a_1 \\\\ a_2 \\\\ a_3 \\end{pmatrix} +\n",
    "          \\begin{pmatrix} b_1 \\\\ b_2 \\\\ b_3 \\end{pmatrix} =\n",
    "          \\begin{pmatrix} a_1 + b_1 \\\\ a_2 + b_2 \\\\ a_3 + b_3 \\end{pmatrix}$"
   ]
  },
  {
   "cell_type": "code",
<<<<<<< HEAD
   "execution_count": 17,
=======
   "execution_count": 15,
>>>>>>> upstream/main
   "metadata": {},
   "outputs": [
    {
     "name": "stdout",
     "output_type": "stream",
     "text": [
      "[1 2 3]\n",
      "[0 1 0]\n"
     ]
    }
   ],
   "source": [
    "print(vec_a)\n",
    "print(vec_b)"
   ]
  },
  {
   "cell_type": "code",
<<<<<<< HEAD
   "execution_count": 18,
=======
   "execution_count": 16,
>>>>>>> upstream/main
   "metadata": {},
   "outputs": [
    {
     "name": "stdout",
     "output_type": "stream",
     "text": [
      "[1 3 3]\n"
     ]
    }
   ],
   "source": [
    "# When you add two arrays of the same size,\n",
    "# Python adds the individual elements in each position\n",
    "\n",
    "print(vec_a + vec_b)\n"
   ]
  },
  {
   "attachments": {},
   "cell_type": "markdown",
   "metadata": {},
   "source": [
    "<font size =\"5\">\n",
    "\n",
    "The default multiplication option is element-by element:\n",
    "\n",
    "$ a * b = \\begin{pmatrix} a_1 * b_1 \\\\ a_2 * b_2 \\\\ a_3 * b_3 \\end{pmatrix}$"
   ]
  },
  {
   "cell_type": "code",
<<<<<<< HEAD
   "execution_count": 19,
=======
   "execution_count": 17,
>>>>>>> upstream/main
   "metadata": {},
   "outputs": [
    {
     "name": "stdout",
     "output_type": "stream",
     "text": [
      "[0 2 0]\n",
      "[1 1 3]\n",
      "[inf  2. inf]\n"
     ]
    },
    {
     "name": "stderr",
     "output_type": "stream",
     "text": [
<<<<<<< HEAD
      "C:\\Users\\CatRo\\AppData\\Local\\Temp\\ipykernel_31656\\3839639845.py:6: RuntimeWarning: divide by zero encountered in divide\n",
=======
      "/var/folders/1b/jzb9ndz97b5260fzr9d8kzyh5f7xd6/T/ipykernel_29828/3839639845.py:6: RuntimeWarning: divide by zero encountered in true_divide\n",
>>>>>>> upstream/main
      "  print(vec_a / vec_b)\n"
     ]
    }
   ],
   "source": [
    "# We can do other similar element-by-element operations\n",
    "# such as multiplication, subtraction, and division.\n",
    "\n",
    "print(vec_a * vec_b)\n",
    "print(vec_a - vec_b)\n",
    "print(vec_a / vec_b)\n"
   ]
  },
  {
   "attachments": {},
   "cell_type": "markdown",
   "metadata": {},
   "source": [
    "<font size = \"5\">\n",
    "Summary statistics of an array"
   ]
  },
  {
   "cell_type": "code",
<<<<<<< HEAD
   "execution_count": 20,
=======
   "execution_count": 18,
>>>>>>> upstream/main
   "metadata": {},
   "outputs": [
    {
     "name": "stdout",
     "output_type": "stream",
     "text": [
      "2.0\n",
      "0.816496580927726\n",
      "1\n",
      "2.0\n",
      "3\n"
     ]
    }
   ],
   "source": [
    "# The function np.mean() computes the mean of an array\n",
    "# We can do similar operations for the standard deviation (std),\n",
    "# the minimum (min), the median (median), and the maximum (max).\n",
    "\n",
    "print(np.mean(vec_a))\n",
    "print(np.std(vec_a))\n",
    "print(np.min(vec_a))\n",
    "print(np.median(vec_a))\n",
    "print(np.max(vec_a))"
   ]
  },
  {
   "attachments": {},
   "cell_type": "markdown",
   "metadata": {},
   "source": [
    "<font size = \"5\">\n",
    "\n",
    "Try it yourself! Compute the mean of\n",
    "\n",
    "\n",
    "$ e = \\begin{pmatrix} 10 \\\\ 8 \\\\ 15 \\\\ 0 \\\\ 24 \\end{pmatrix} $"
   ]
  },
  {
   "cell_type": "code",
<<<<<<< HEAD
   "execution_count": 23,
   "metadata": {},
   "outputs": [
    {
     "name": "stdout",
     "output_type": "stream",
     "text": [
      "11.4\n",
      "7.939773296511683\n",
      "0\n",
      "10.0\n",
      "24\n"
     ]
=======
   "execution_count": 19,
   "metadata": {},
   "outputs": [
    {
     "data": {
      "text/plain": [
       "11.4"
      ]
     },
     "execution_count": 19,
     "metadata": {},
     "output_type": "execute_result"
>>>>>>> upstream/main
    }
   ],
   "source": [
    "# Create your own array and compute any of the above summary statistics\n",
    "\n",
<<<<<<< HEAD
    "vec_e  = np.array([10,8,15,0,24])\n",
    "print(np.mean(vec_e))\n",
    "print(np.std(vec_e))\n",
    "print(np.min(vec_e))\n",
    "print(np.median(vec_e))\n",
    "print(np.max(vec_e))\n"
=======
    "e = np.array( [10,8,15,0,24] )\n",
    "\n",
    "np.mean(e)\n",
    "\n",
    "\n"
>>>>>>> upstream/main
   ]
  },
  {
   "attachments": {},
   "cell_type": "markdown",
   "metadata": {},
   "source": [
    "<font size = \"5\">\n",
    "<span style=\"color:red\"> Common Pitfall </span>: Make sure that the arrays have the same size"
   ]
  },
  {
   "cell_type": "code",
<<<<<<< HEAD
   "execution_count": 24,
=======
   "execution_count": 20,
>>>>>>> upstream/main
   "metadata": {},
   "outputs": [
    {
     "name": "stdout",
     "output_type": "stream",
     "text": [
      "[1 2 3]\n",
      "[  10  100 1000 2000 5000]\n"
     ]
    }
   ],
   "source": [
    "print(vec_a)\n",
    "print(vec_c)"
   ]
  },
  {
   "cell_type": "code",
<<<<<<< HEAD
   "execution_count": 25,
=======
   "execution_count": 21,
>>>>>>> upstream/main
   "metadata": {},
   "outputs": [
    {
     "data": {
      "text/plain": [
       "(3,)"
      ]
     },
<<<<<<< HEAD
     "execution_count": 25,
=======
     "execution_count": 21,
>>>>>>> upstream/main
     "metadata": {},
     "output_type": "execute_result"
    }
   ],
   "source": [
    "vec_a.shape"
   ]
  },
  {
   "cell_type": "code",
<<<<<<< HEAD
   "execution_count": 26,
=======
   "execution_count": 22,
>>>>>>> upstream/main
   "metadata": {},
   "outputs": [
    {
     "ename": "ValueError",
     "evalue": "operands could not be broadcast together with shapes (3,) (5,) ",
     "output_type": "error",
     "traceback": [
<<<<<<< HEAD
      "\u001b[1;31m---------------------------------------------------------------------------\u001b[0m",
      "\u001b[1;31mValueError\u001b[0m                                Traceback (most recent call last)",
      "Cell \u001b[1;32mIn[26], line 3\u001b[0m\n\u001b[0;32m      1\u001b[0m \u001b[38;5;66;03m# Here I try to combine two arrays of different size.\u001b[39;00m\n\u001b[1;32m----> 3\u001b[0m vec_a \u001b[38;5;241m+\u001b[39m vec_c\n",
      "\u001b[1;31mValueError\u001b[0m: operands could not be broadcast together with shapes (3,) (5,) "
=======
      "\u001b[0;31m---------------------------------------------------------------------------\u001b[0m",
      "\u001b[0;31mValueError\u001b[0m                                Traceback (most recent call last)",
      "\u001b[0;32m/var/folders/1b/jzb9ndz97b5260fzr9d8kzyh5f7xd6/T/ipykernel_29828/3893591031.py\u001b[0m in \u001b[0;36m<module>\u001b[0;34m\u001b[0m\n\u001b[1;32m      1\u001b[0m \u001b[0;31m# Here I try to combine two arrays of different size.\u001b[0m\u001b[0;34m\u001b[0m\u001b[0;34m\u001b[0m\u001b[0m\n\u001b[1;32m      2\u001b[0m \u001b[0;34m\u001b[0m\u001b[0m\n\u001b[0;32m----> 3\u001b[0;31m \u001b[0mvec_a\u001b[0m \u001b[0;34m+\u001b[0m \u001b[0mvec_c\u001b[0m\u001b[0;34m\u001b[0m\u001b[0;34m\u001b[0m\u001b[0m\n\u001b[0m",
      "\u001b[0;31mValueError\u001b[0m: operands could not be broadcast together with shapes (3,) (5,) "
>>>>>>> upstream/main
     ]
    }
   ],
   "source": [
    "# Here I try to combine two arrays of different size.\n",
    "\n",
    "vec_a + vec_c"
   ]
  },
  {
   "attachments": {},
   "cell_type": "markdown",
   "metadata": {},
   "source": [
    "##  <span style=\"color:darkblue\"> IV. Random Numbers </span>\n",
    "\n",
    "<font size = \"5\">\n",
    "\n",
    "Why randomness?\n",
    "\n",
    "- Simulate different scenarios: high risk or low risk\n",
    "- Study properties of a complex system and/or estimator\n",
    "- In medicine, randomly assign subjects to treatment or control"
   ]
  },
  {
   "attachments": {},
   "cell_type": "markdown",
   "metadata": {},
   "source": [
    "<font size = \"5\">\n",
    "\n",
    "Create a vector of random variables"
   ]
  },
  {
   "cell_type": "code",
<<<<<<< HEAD
   "execution_count": 27,
=======
   "execution_count": 37,
>>>>>>> upstream/main
   "metadata": {},
   "outputs": [
    {
     "name": "stdout",
     "output_type": "stream",
     "text": [
<<<<<<< HEAD
      "[-1.37792807 -0.03738325 -0.32920605 -0.23444909 -0.81604234 -1.01409948\n",
      " -0.15848185  0.70656017  0.35418707  0.82671564]\n"
=======
      "[ 0.28904557 -0.34259521 -1.53873514  1.95141492 -0.25062358 -0.32367552\n",
      " -0.68196447 -1.70393137 -0.43218152 -1.26016168]\n"
>>>>>>> upstream/main
     ]
    }
   ],
   "source": [
    "# This code creates a vector of random variables \n",
    "# generated from a normal distribution with\n",
    "# mean \"loc\" (location) and standard deviation \"scale\"\n",
    "# the number of distinct variabels is \"size\"\n",
    "\n",
    "randomvar_a = np.random.normal(loc=0, scale=1, size=10)\n",
    "print(randomvar_a)"
   ]
  },
  {
   "attachments": {},
   "cell_type": "markdown",
   "metadata": {},
   "source": [
    "<font size = \"5\">\n",
    "\n",
    "Random numbers differ every time!\n",
    "\n",
    "- Avoid this problem by drawing from a \"pregenerated\" set.\n",
    "- This is called a seed"
   ]
  },
  {
   "cell_type": "code",
<<<<<<< HEAD
   "execution_count": 30,
=======
   "execution_count": 56,
>>>>>>> upstream/main
   "metadata": {},
   "outputs": [
    {
     "name": "stdout",
     "output_type": "stream",
     "text": [
<<<<<<< HEAD
      "[-0.33101264 -0.438638   -0.75090825 -0.36108372  0.46834289 -0.11326744\n",
      " -0.04432165 -2.45982754  1.77349369  1.09337644]\n"
=======
      "[ 1.3315865   0.71527897 -1.54540029 -0.00838385  0.62133597 -0.72008556\n",
      "  0.26551159  0.10854853  0.00429143 -0.17460021]\n"
>>>>>>> upstream/main
     ]
    }
   ],
   "source": [
    "# Your computer will typically generate different numbers every time you run a command\n",
    "# However, sometimes you want to be able to replicate the results\n",
    "# You can choose any other number instead of \"12345\". This will produce another set\n",
    "# of random numbers, but they will give the same answers\n",
    "\n",
    "np.random.seed(103931)\n",
    "\n",
    "random_var_b = np.random.normal(loc=0, scale=1, size=10)\n",
    "print(random_var_b)"
   ]
  },
  {
   "attachments": {},
   "cell_type": "markdown",
   "metadata": {},
   "source": [
    "<font size = \"5\">\n",
    "\n",
    "Compute a histogram with the results"
   ]
  },
  {
   "cell_type": "code",
<<<<<<< HEAD
   "execution_count": 33,
=======
   "execution_count": 58,
>>>>>>> upstream/main
   "metadata": {},
   "outputs": [
    {
     "data": {
      "text/plain": [
       "Text(0, 0.5, 'Frequency')"
      ]
     },
<<<<<<< HEAD
     "execution_count": 33,
=======
     "execution_count": 58,
>>>>>>> upstream/main
     "metadata": {},
     "output_type": "execute_result"
    },
    {
     "data": {
<<<<<<< HEAD
      "image/png": "iVBORw0KGgoAAAANSUhEUgAAAjcAAAGwCAYAAABVdURTAAAAOXRFWHRTb2Z0d2FyZQBNYXRwbG90bGliIHZlcnNpb24zLjcuMiwgaHR0cHM6Ly9tYXRwbG90bGliLm9yZy8pXeV/AAAACXBIWXMAAA9hAAAPYQGoP6dpAAAqn0lEQVR4nO3de1xVdb7/8fdObmpIpXIbEXFU8lKpUEc8XmPEZMaHmY8ZK1MsmjNOmhfk4ahNpxznHC2VyJOKnkGo4yktUU8dzSNnvE7iFAqaeckaA9JNjOaA2hFU1u8Pf+5pByJsNmz48no+Husxre/+ftf+rL3YD9+z1nftZbMsyxIAAIAh7vB0AQAAAO5EuAEAAEYh3AAAAKMQbgAAgFEINwAAwCiEGwAAYBTCDQAAMIqXpwtobJWVlTp79qz8/f1ls9k8XQ4AAKgFy7J08eJFhYaG6o47aj430+LCzdmzZxUWFubpMgAAgAuKiorUqVOnGvu0uHDj7+8v6caH065dOw9XAwAAaqOsrExhYWGOf8dr0uLCzc1LUe3atSPcAADQzNRmSgkTigEAgFEINwAAwCiEGwAAYBTCDQAAMArhBgAAGIVwAwAAjEK4AQAARiHcAAAAoxBuAACAUQg3AADAKIQbAABgFI+Gm1WrVun+++93POcpJiZGH374YY1j9uzZo6ioKPn5+alr165KS0trpGoBAEBz4NFw06lTJy1evFi5ubnKzc3Vww8/rDFjxuizzz6rtv/p06cVHx+vwYMHKy8vT/Pnz9f06dOVlZXVyJUDAICmymZZluXpIr7vnnvu0ZIlS5SYmFjltd/85jd6//33dfz4cUfblClTdPjwYeXk5NRq+2VlZQoICFBpaSlPBQcAoJmoy7/fTWbOzfXr17V+/XpdvnxZMTEx1fbJyclRXFycU9vIkSOVm5urq1evVjumvLxcZWVlTgsAADCXl6cL+PTTTxUTE6MrV67ozjvv1ObNm9WrV69q+xYXFysoKMipLSgoSNeuXdO5c+cUEhJSZcyiRYu0YMGCBqkdntNl7lZPl1BnXy3+qadLAIAWweNnbiIjI5Wfn68DBw7o17/+tRISEnTs2LFb9rfZbE7rN6+q/bD9pnnz5qm0tNSxFBUVua94AADQ5Hj8zI2Pj4+6desmSYqOjtYnn3yi119/XatXr67SNzg4WMXFxU5tJSUl8vLyUvv27avdvq+vr3x9fd1fOAAAaJI8fubmhyzLUnl5ebWvxcTEKDs726ltx44dio6Olre3d2OUBwAAmjiPhpv58+dr3759+uqrr/Tpp5/qhRde0O7duzVhwgRJNy4pTZo0ydF/ypQpKigoUFJSko4fP661a9cqPT1dycnJntoFAADQxHj0stQ333yjiRMnym63KyAgQPfff7+2b9+uESNGSJLsdrsKCwsd/SMiIrRt2zbNmjVLK1asUGhoqJYvX65x48Z5ahcAAEAT0+R+56ah8Ts3ZuBuKQBoWZrl79wAAAC4A+EGAAAYhXADAACMQrgBAABGIdwAAACjEG4AAIBRCDcAAMAohBsAAGAUwg0AADAK4QYAABiFcAMAAIxCuAEAAEYh3AAAAKMQbgAAgFEINwAAwCiEGwAAYBTCDQAAMArhBgAAGIVwAwAAjEK4AQAARiHcAAAAoxBuAACAUQg3AADAKIQbAABgFMINAAAwCuEGAAAYhXADAACMQrgBAABGIdwAAACjEG4AAIBRCDcAAMAohBsAAGAUwg0AADAK4QYAABiFcAMAAIxCuAEAAEYh3AAAAKMQbgAAgFEINwAAwCiEGwAAYBTCDQAAMArhBgAAGIVwAwAAjEK4AQAARiHcAAAAoxBuAACAUQg3AADAKIQbAABgFI+Gm0WLFunBBx+Uv7+/AgMD9eijj+rkyZM1jtm9e7dsNluV5cSJE41UNQAAaMo8Gm727NmjqVOn6sCBA8rOzta1a9cUFxeny5cv33bsyZMnZbfbHUv37t0boWIAANDUeXnyzbdv3+60npGRocDAQB08eFBDhgypcWxgYKDuuuuu275HeXm5ysvLHetlZWUu1QoAAJqHJjXnprS0VJJ0zz333LZvv379FBISotjYWO3ateuW/RYtWqSAgADHEhYW5rZ6AQBA09Nkwo1lWUpKStKgQYPUp0+fW/YLCQnRmjVrlJWVpU2bNikyMlKxsbHau3dvtf3nzZun0tJSx1JUVNRQuwAAAJoAj16W+r5p06bpyJEj+tOf/lRjv8jISEVGRjrWY2JiVFRUpKVLl1Z7KcvX11e+vr5urxcAADRNTeLMzfPPP6/3339fu3btUqdOneo8fsCAATp16lQDVAYAAJobj565sSxLzz//vDZv3qzdu3crIiLCpe3k5eUpJCTEzdUBAIDmyKPhZurUqXr77bf1X//1X/L391dxcbEkKSAgQK1bt5Z0Y87MmTNn9NZbb0mSUlNT1aVLF/Xu3VsVFRVat26dsrKylJWV5bH9AAAATYdHw82qVaskScOGDXNqz8jI0OTJkyVJdrtdhYWFjtcqKiqUnJysM2fOqHXr1urdu7e2bt2q+Pj4xiobAAA0YTbLsixPF9GYysrKFBAQoNLSUrVr187T5cBFXeZu9XQJdfbV4p96ugQAaLbq8u93k5hQDAAA4C6EGwAAYBTCDQAAMArhBgAAGIVwAwAAjEK4AQAARiHcAAAAoxBuAACAUQg3AADAKIQbAABgFMINAAAwCuEGAAAYhXADAACMQrgBAABGIdwAAACjEG4AAIBRCDcAAMAohBsAAGAUwg0AADAK4QYAABiFcAMAAIxCuAEAAEYh3AAAAKMQbgAAgFEINwAAwCiEGwAAYBTCDQAAMArhBgAAGIVwAwAAjEK4AQAARiHcAAAAoxBuAACAUQg3AADAKIQbAABgFMINAAAwCuEGAAAYhXADAACMQrgBAABGIdwAAACjEG4AAIBRCDcAAMAohBsAAGAUwg0AADAK4QYAABiFcAMAAIxCuAEAAEYh3AAAAKN4NNwsWrRIDz74oPz9/RUYGKhHH31UJ0+evO24PXv2KCoqSn5+furatavS0tIaoVoAANAceDTc7NmzR1OnTtWBAweUnZ2ta9euKS4uTpcvX77lmNOnTys+Pl6DBw9WXl6e5s+fr+nTpysrK6sRKwcAAE2VlyfffPv27U7rGRkZCgwM1MGDBzVkyJBqx6Slpalz585KTU2VJPXs2VO5ublaunSpxo0b19AlAwCAJq5JzbkpLS2VJN1zzz237JOTk6O4uDintpEjRyo3N1dXr16t0r+8vFxlZWVOCwAAMJdHz9x8n2VZSkpK0qBBg9SnT59b9isuLlZQUJBTW1BQkK5du6Zz584pJCTE6bVFixZpwYIFDVKzKbrM3erpEgAAcJsmc+Zm2rRpOnLkiN55553b9rXZbE7rlmVV2y5J8+bNU2lpqWMpKipyT8EAAKBJahJnbp5//nm9//772rt3rzp16lRj3+DgYBUXFzu1lZSUyMvLS+3bt6/S39fXV76+vm6tFwAANF0ePXNjWZamTZumTZs2aefOnYqIiLjtmJiYGGVnZzu17dixQ9HR0fL29m6oUgEAQDPh0XAzdepUrVu3Tm+//bb8/f1VXFys4uJi/d///Z+jz7x58zRp0iTH+pQpU1RQUKCkpCQdP35ca9euVXp6upKTkz2xCwAAoInxaLhZtWqVSktLNWzYMIWEhDiWDRs2OPrY7XYVFhY61iMiIrRt2zbt3r1bffv21cKFC7V8+XJuAwcAAJI8POfm5kTgmmRmZlZpGzp0qA4dOtQAFQEAgOauydwtBQAA4A6EGwAAYBTCDQAAMArhBgAAGIVwAwAAjEK4AQAARiHcAAAAoxBuAACAUQg3AADAKIQbAABgFMINAAAwikvh5vTp0+6uAwAAwC1cCjfdunXT8OHDtW7dOl25csXdNQEAALjMpXBz+PBh9evXT7Nnz1ZwcLB+9atf6eOPP3Z3bQAAAHXmUrjp06ePUlJSdObMGWVkZKi4uFiDBg1S7969lZKSor/+9a/urhMAAKBW6jWh2MvLS2PHjtW7776rV155RV9++aWSk5PVqVMnTZo0SXa73V11AgAA1Eq9wk1ubq6ee+45hYSEKCUlRcnJyfryyy+1c+dOnTlzRmPGjHFXnQAAALXi5cqglJQUZWRk6OTJk4qPj9dbb72l+Ph43XHHjawUERGh1atX695773VrsQAAALfjUrhZtWqVnnnmGT399NMKDg6utk/nzp2Vnp5er+IAAADqyqVwc+rUqdv28fHxUUJCgiubBwAAcJlLc24yMjL03nvvVWl/77339Oabb9a7KAAAAFe5FG4WL16sDh06VGkPDAzUv/7rv9a7KAAAAFe5FG4KCgoUERFRpT08PFyFhYX1LgoAAMBVLoWbwMBAHTlypEr74cOH1b59+3oXBQAA4CqXws3jjz+u6dOna9euXbp+/bquX7+unTt3asaMGXr88cfdXSMAAECtuXS31O9//3sVFBQoNjZWXl43NlFZWalJkyYx5wYAAHiUS+HGx8dHGzZs0MKFC3X48GG1bt1a9913n8LDw91dHwAAQJ24FG5u6tGjh3r06OGuWgAAAOrNpXBz/fp1ZWZm6o9//KNKSkpUWVnp9PrOnTvdUhwAAEBduRRuZsyYoczMTP30pz9Vnz59ZLPZ3F0XAACAS1wKN+vXr9e7776r+Ph4d9cDAABQLy7dCu7j46Nu3bq5uxYAAIB6cynczJ49W6+//rosy3J3PQAAAPXi0mWpP/3pT9q1a5c+/PBD9e7dW97e3k6vb9q0yS3FAQAA1JVL4eauu+7S2LFj3V0LAABAvbkUbjIyMtxdBwAAgFu4NOdGkq5du6b//d//1erVq3Xx4kVJ0tmzZ3Xp0iW3FQcAAFBXLp25KSgo0COPPKLCwkKVl5drxIgR8vf316uvvqorV64oLS3N3XUCAADUiktnbmbMmKHo6GhduHBBrVu3drSPHTtWf/zjH91WHAAAQF25fLfURx99JB8fH6f28PBwnTlzxi2FAQAAuMKlMzeVlZW6fv16lfavv/5a/v7+9S4KAADAVS6FmxEjRig1NdWxbrPZdOnSJb300ks8kgEAAHiUS5elXnvtNQ0fPly9evXSlStX9OSTT+rUqVPq0KGD3nnnHXfXCAAAUGsuhZvQ0FDl5+frnXfe0aFDh1RZWanExERNmDDBaYIxAABAY3Mp3EhS69at9cwzz+iZZ55xZz0AAAD14lK4eeutt2p8fdKkSS4VAwAAUF8uhZsZM2Y4rV+9elXfffedfHx81KZNG8INAADwGJfulrpw4YLTcunSJZ08eVKDBg1iQjEAAPAol58t9UPdu3fX4sWLq5zVqcnevXs1evRohYaGymazacuWLTX23717t2w2W5XlxIkT9aweAACYwuUJxdVp1aqVzp49W+v+ly9f1gMPPKCnn35a48aNq/W4kydPql27do71jh071qlOAABgLpfCzfvvv++0blmW7Ha73njjDf3jP/5jrbczatQojRo1qs7vHxgYqLvuuqvO4wAAgPlcCjePPvqo07rNZlPHjh318MMPa9myZe6oq0b9+vXTlStX1KtXL/32t7/V8OHDb9m3vLxc5eXljvWysrIGrw8AAHiOS+GmsrLS3XXUSkhIiNasWaOoqCiVl5frP/7jPxQbG6vdu3dryJAh1Y5ZtGiRFixY0MiVAgAAT7FZlmV5ugjpxtmfzZs3VzkrdDujR4+WzWarcqnspurO3ISFham0tNRp3k5L1mXuVk+X0CJ8tfinni4BAJqtsrIyBQQE1Orfb5fO3CQlJdW6b0pKiitvUWsDBgzQunXrbvm6r6+vfH19G7QGAADQdLgUbvLy8nTo0CFdu3ZNkZGRkqTPP/9crVq1Uv/+/R39bDabe6q8TS0hISEN/j4AAKB5cCncjB49Wv7+/nrzzTd19913S7rxw35PP/20Bg8erNmzZ9dqO5cuXdIXX3zhWD99+rTy8/N1zz33qHPnzpo3b57OnDnjeNxDamqqunTpot69e6uiokLr1q1TVlaWsrKyXNkNAABgIJfCzbJly7Rjxw5HsJGku+++W7///e8VFxdX63CTm5vrdKfTzctdCQkJyszMlN1uV2FhoeP1iooKJScn68yZM2rdurV69+6trVu3Kj4+3pXdAAAABnIp3JSVlembb75R7969ndpLSkp08eLFWm9n2LBhqmk+c2ZmptP6nDlzNGfOnDrVCgAAWhaXHr8wduxYPf3009q4caO+/vprff3119q4caMSExP12GOPubtGAACAWnPpzE1aWpqSk5P11FNP6erVqzc25OWlxMRELVmyxK0FAgAA1IVL4aZNmzZauXKllixZoi+//FKWZalbt25q27atu+sDAACok3o9Fdxut8tut6tHjx5q27ZtjfNnAAAAGoNL4eb8+fOKjY1Vjx49FB8fL7vdLkl69tlna32nFAAAQENwKdzMmjVL3t7eKiwsVJs2bRzt48eP1/bt291WHAAAQF25NOdmx44d+p//+R916tTJqb179+4qKChwS2EAAACucOnMzeXLl53O2Nx07tw5nuMEAAA8yqVwM2TIEMcjEaQbz5CqrKzUkiVLnH5xGAAAoLG5dFlqyZIlGjZsmHJzc1VRUaE5c+bos88+07fffquPPvrI3TUCAADUmktnbnr16qUjR47ooYce0ogRI3T58mU99thjysvL049//GN31wgAAFBrdT5zc/XqVcXFxWn16tVasGBBQ9QEAADgsjqfufH29tbRo0dls9kaoh4AAIB6cemy1KRJk5Senu7uWgAAAOrNpQnFFRUV+sMf/qDs7GxFR0dXeaZUSkqKW4oDAACoqzqFm7/85S/q0qWLjh49qv79+0uSPv/8c6c+XK4CAACeVKdw0717d9ntdu3atUvSjcctLF++XEFBQQ1SHAAAQF3Vac7ND5/6/eGHH+ry5ctuLQgAAKA+XJpQfNMPww4AAICn1Snc2Gy2KnNqmGMDAACakjrNubEsS5MnT3Y8HPPKlSuaMmVKlbulNm3a5L4KAQAA6qBO4SYhIcFp/amnnnJrMQAAAPVVp3CTkZHRUHUAAAC4Rb0mFAMAADQ1hBsAAGAUwg0AADAK4QYAABiFcAMAAIxCuAEAAEYh3AAAAKMQbgAAgFEINwAAwCiEGwAAYBTCDQAAMArhBgAAGIVwAwAAjEK4AQAARiHcAAAAoxBuAACAUQg3AADAKIQbAABgFMINAAAwCuEGAAAYhXADAACMQrgBAABGIdwAAACjEG4AAIBRCDcAAMAoHg03e/fu1ejRoxUaGiqbzaYtW7bcdsyePXsUFRUlPz8/de3aVWlpaQ1fKAAAaDY8Gm4uX76sBx54QG+88Uat+p8+fVrx8fEaPHiw8vLyNH/+fE2fPl1ZWVkNXCkAAGguvDz55qNGjdKoUaNq3T8tLU2dO3dWamqqJKlnz57Kzc3V0qVLNW7cuGrHlJeXq7y83LFeVlZWr5oBAEDT5tFwU1c5OTmKi4tzahs5cqTS09N19epVeXt7VxmzaNEiLViwoLFKVJe5WxvtvYCG1hz/nr9a/FNPl9BiNMe/DzQOT38Pm9WE4uLiYgUFBTm1BQUF6dq1azp37ly1Y+bNm6fS0lLHUlRU1BilAgAAD2lWZ24kyWazOa1bllVt+02+vr7y9fVt8LoAAEDT0KzO3AQHB6u4uNipraSkRF5eXmrfvr2HqgIAAE1Jswo3MTExys7OdmrbsWOHoqOjq51vAwAAWh6PhptLly4pPz9f+fn5km7c6p2fn6/CwkJJN+bLTJo0ydF/ypQpKigoUFJSko4fP661a9cqPT1dycnJnigfAAA0QR6dc5Obm6vhw4c71pOSkiRJCQkJyszMlN1udwQdSYqIiNC2bds0a9YsrVixQqGhoVq+fPktbwMHAAAtj0fDzbBhwxwTgquTmZlZpW3o0KE6dOhQA1YFAACas2Y15wYAAOB2CDcAAMAohBsAAGAUwg0AADAK4QYAABiFcAMAAIxCuAEAAEYh3AAAAKMQbgAAgFEINwAAwCiEGwAAYBTCDQAAMArhBgAAGIVwAwAAjEK4AQAARiHcAAAAoxBuAACAUQg3AADAKIQbAABgFMINAAAwCuEGAAAYhXADAACMQrgBAABGIdwAAACjEG4AAIBRCDcAAMAohBsAAGAUwg0AADAK4QYAABiFcAMAAIxCuAEAAEYh3AAAAKMQbgAAgFEINwAAwCiEGwAAYBTCDQAAMArhBgAAGIVwAwAAjEK4AQAARiHcAAAAoxBuAACAUQg3AADAKIQbAABgFMINAAAwCuEGAAAYhXADAACMQrgBAABG8Xi4WblypSIiIuTn56eoqCjt27fvln13794tm81WZTlx4kQjVgwAAJoyj4abDRs2aObMmXrhhReUl5enwYMHa9SoUSosLKxx3MmTJ2W32x1L9+7dG6liAADQ1Hk03KSkpCgxMVHPPvusevbsqdTUVIWFhWnVqlU1jgsMDFRwcLBjadWqVSNVDAAAmjqPhZuKigodPHhQcXFxTu1xcXHav39/jWP79eunkJAQxcbGateuXTX2LS8vV1lZmdMCAADM5bFwc+7cOV2/fl1BQUFO7UFBQSouLq52TEhIiNasWaOsrCxt2rRJkZGRio2N1d69e2/5PosWLVJAQIBjCQsLc+t+AACApsXL0wXYbDandcuyqrTdFBkZqcjISMd6TEyMioqKtHTpUg0ZMqTaMfPmzVNSUpJjvaysjIADAIDBPHbmpkOHDmrVqlWVszQlJSVVzubUZMCAATp16tQtX/f19VW7du2cFgAAYC6PhRsfHx9FRUUpOzvbqT07O1sDBw6s9Xby8vIUEhLi7vIAAEAz5dHLUklJSZo4caKio6MVExOjNWvWqLCwUFOmTJF045LSmTNn9NZbb0mSUlNT1aVLF/Xu3VsVFRVat26dsrKylJWV5cndAAAATYhHw8348eN1/vx5/e53v5PdblefPn20bds2hYeHS5LsdrvTb95UVFQoOTlZZ86cUevWrdW7d29t3bpV8fHxntoFAADQxHh8QvFzzz2n5557rtrXMjMzndbnzJmjOXPmNEJVAACgufL44xcAAADciXADAACMQrgBAABGIdwAAACjEG4AAIBRCDcAAMAohBsAAGAUwg0AADAK4QYAABiFcAMAAIxCuAEAAEYh3AAAAKMQbgAAgFEINwAAwCiEGwAAYBTCDQAAMArhBgAAGIVwAwAAjEK4AQAARiHcAAAAoxBuAACAUQg3AADAKIQbAABgFMINAAAwCuEGAAAYhXADAACMQrgBAABGIdwAAACjEG4AAIBRCDcAAMAohBsAAGAUwg0AADAK4QYAABiFcAMAAIxCuAEAAEYh3AAAAKMQbgAAgFEINwAAwCiEGwAAYBTCDQAAMArhBgAAGIVwAwAAjEK4AQAARiHcAAAAoxBuAACAUQg3AADAKIQbAABgFMINAAAwisfDzcqVKxURESE/Pz9FRUVp3759Nfbfs2ePoqKi5Ofnp65duyotLa2RKgUAAM2BR8PNhg0bNHPmTL3wwgvKy8vT4MGDNWrUKBUWFlbb//Tp04qPj9fgwYOVl5en+fPna/r06crKymrkygEAQFPl0XCTkpKixMREPfvss+rZs6dSU1MVFhamVatWVds/LS1NnTt3Vmpqqnr27Klnn31WzzzzjJYuXdrIlQMAgKbKy1NvXFFRoYMHD2ru3LlO7XFxcdq/f3+1Y3JychQXF+fUNnLkSKWnp+vq1avy9vauMqa8vFzl5eWO9dLSUklSWVlZfXehWpXl3zXIdtH8NdTfXENqjn/PzfFzbq6a498HGkdDfA9vbtOyrNv29Vi4OXfunK5fv66goCCn9qCgIBUXF1c7pri4uNr+165d07lz5xQSElJlzKJFi7RgwYIq7WFhYfWoHqi7gFRPV9Ay8DkDnteQ38OLFy8qICCgxj4eCzc32Ww2p3XLsqq03a5/de03zZs3T0lJSY71yspKffvtt2rfvr3TmLKyMoWFhamoqEjt2rWr836gcXG8mg+OVfPC8WpeWtLxsixLFy9eVGho6G37eizcdOjQQa1atapylqakpKTK2ZmbgoODq+3v5eWl9u3bVzvG19dXvr6+Tm133XXXLetq166d8X8gJuF4NR8cq+aF49W8tJTjdbszNjd5bEKxj4+PoqKilJ2d7dSenZ2tgQMHVjsmJiamSv8dO3YoOjq62vk2AACg5fHo3VJJSUn6wx/+oLVr1+r48eOaNWuWCgsLNWXKFEk3LilNmjTJ0X/KlCkqKChQUlKSjh8/rrVr1yo9PV3Jycme2gUAANDEeHTOzfjx43X+/Hn97ne/k91uV58+fbRt2zaFh4dLkux2u9Nv3kRERGjbtm2aNWuWVqxYodDQUC1fvlzjxo2rdy2+vr566aWXqlzCQtPE8Wo+OFbNC8ereeF4Vc9m1eaeKgAAgGbC449fAAAAcCfCDQAAMArhBgAAGIVwAwAAjNKiw82//Mu/aODAgWrTpk2NP+z3fZZl6eWXX1ZoaKhat26tYcOG6bPPPmvYQqELFy5o4sSJCggIUEBAgCZOnKi//e1vNY6ZPHmybDab0zJgwIDGKbiFWblypSIiIuTn56eoqCjt27evxv579uxRVFSU/Pz81LVrV6WlpTVSpZDqdrx2795d5Xtks9l04sSJRqy4Zdq7d69Gjx6t0NBQ2Ww2bdmy5bZj+G7d0KLDTUVFhX7+85/r17/+da3HvPrqq0pJSdEbb7yhTz75RMHBwRoxYoQuXrzYgJXiySefVH5+vrZv367t27crPz9fEydOvO24Rx55RHa73bFs27atEaptWTZs2KCZM2fqhRdeUF5engYPHqxRo0Y5/YzD950+fVrx8fEaPHiw8vLyNH/+fE2fPl1ZWVmNXHnLVNfjddPJkyedvkvdu3dvpIpbrsuXL+uBBx7QG2+8Uav+fLe+x4KVkZFhBQQE3LZfZWWlFRwcbC1evNjRduXKFSsgIMBKS0trwApbtmPHjlmSrAMHDjjacnJyLEnWiRMnbjkuISHBGjNmTCNU2LI99NBD1pQpU5za7r33Xmvu3LnV9p8zZ4517733OrX96le/sgYMGNBgNeLv6nq8du3aZUmyLly40AjV4VYkWZs3b66xD9+tv2vRZ27q6vTp0youLlZcXJyjzdfXV0OHDtX+/fs9WJnZcnJyFBAQoH/4h39wtA0YMEABAQG3/dx3796twMBA9ejRQ7/85S9VUlLS0OW2KBUVFTp48KDTd0KS4uLibnlscnJyqvQfOXKkcnNzdfXq1QarFa4dr5v69eunkJAQxcbGateuXQ1ZJlzEd+vvCDd1cPOhnT98sGdQUFCVB3rCfYqLixUYGFilPTAwsMbPfdSoUfrP//xP7dy5U8uWLdMnn3yihx9+WOXl5Q1Zboty7tw5Xb9+vU7fieLi4mr7X7t2TefOnWuwWuHa8QoJCdGaNWuUlZWlTZs2KTIyUrGxsdq7d29jlIw64Lv1dx59/EJDePnll7VgwYIa+3zyySeKjo52+T1sNpvTumVZVdpwe7U9VlLVz1y6/ec+fvx4x3/36dNH0dHRCg8P19atW/XYY4+5WDWqU9fvRHX9q2tHw6jL8YqMjFRkZKRjPSYmRkVFRVq6dKmGDBnSoHWi7vhu3WBcuJk2bZoef/zxGvt06dLFpW0HBwdLupGOQ0JCHO0lJSVV0jJur7bH6siRI/rmm2+qvPbXv/61Tp97SEiIwsPDderUqTrXiup16NBBrVq1qvL/+mv6TgQHB1fb38vLS+3bt2+wWuHa8arOgAEDtG7dOneXh3riu/V3xoWbDh06qEOHDg2y7YiICAUHBys7O1v9+vWTdOMa9p49e/TKK680yHuarLbHKiYmRqWlpfr444/10EMPSZL+/Oc/q7S0VAMHDqz1+50/f15FRUVOwRT14+Pjo6ioKGVnZ2vs2LGO9uzsbI0ZM6baMTExMfrggw+c2nbs2KHo6Gh5e3s3aL0tnSvHqzp5eXl8j5ogvlvf48nZzJ5WUFBg5eXlWQsWLLDuvPNOKy8vz8rLy7MuXrzo6BMZGWlt2rTJsb548WIrICDA2rRpk/Xpp59aTzzxhBUSEmKVlZV5YhdajEceecS6//77rZycHCsnJ8e67777rJ/97GdOfb5/rC5evGjNnj3b2r9/v3X69Glr165dVkxMjPWjH/2IY+Vm69evt7y9va309HTr2LFj1syZM622bdtaX331lWVZljV37lxr4sSJjv5/+ctfrDZt2lizZs2yjh07ZqWnp1ve3t7Wxo0bPbULLUpdj9drr71mbd682fr888+to0ePWnPnzrUkWVlZWZ7ahRbj4sWLjn+XJFkpKSlWXl6eVVBQYFkW362atOhwk5CQYEmqsuzatcvRR5KVkZHhWK+srLReeuklKzg42PL19bWGDBliffrpp41ffAtz/vx5a8KECZa/v7/l7+9vTZgwocqtqd8/Vt99950VFxdndezY0fL29rY6d+5sJSQkWIWFhY1ffAuwYsUKKzw83PLx8bH69+9v7dmzx/FaQkKCNXToUKf+u3fvtvr162f5+PhYXbp0sVatWtXIFbdsdTler7zyivXjH//Y8vPzs+6++25r0KBB1tatWz1Qdctz8zb8Hy4JCQmWZfHdqonNsv7/bCMAAAADcCs4AAAwCuEGAAAYhXADAACMQrgBAABGIdwAAACjEG4AAIBRCDcAAMAohBsAAGAUwg2AZsFms2nLli217v/yyy+rb9++NfaZPHmyHn300XrVBaDpIdwAcIvRo0frJz/5SbWv5eTkyGaz6dChQy5v3263a9SoUS6PB9ByEG4AuEViYqJ27typgoKCKq+tXbtWffv2Vf/+/eu83YqKCklScHCwfH19610nAPMRbgC4xc9+9jMFBgYqMzPTqf27777Thg0blJiYqPPnz+uJJ55Qp06d1KZNG91333165513nPoPGzZM06ZNU1JSkjp06KARI0ZIqnpZ6je/+Y169OihNm3aqGvXrnrxxRd19erVKnWtXr1aYWFhatOmjX7+85/rb3/72y33wbIsvfrqq+ratatat26tBx54QBs3bqxxv9etW6fo6Gj5+/srODhYTz75pEpKSmr+sAA0KMINALfw8vLSpEmTlJmZqe8/j/e9995TRUWFJkyYoCtXrigqKkr//d//raNHj+qf/umfNHHiRP35z3922tabb74pLy8vffTRR1q9enW17+fv76/MzEwdO3ZMr7/+uv793/9dr732mlOfL774Qu+++64++OADbd++Xfn5+Zo6deot9+G3v/2tMjIytGrVKn322WeaNWuWnnrqKe3Zs+eWYyoqKrRw4UIdPnxYW7Zs0enTpzV58uRafGIAGoxnH0oOwCTHjx+3JFk7d+50tA0ZMsR64oknbjkmPj7emj17tmN96NChVt++fav0k2Rt3rz5ltt59dVXraioKMf6Sy+9ZLVq1coqKipytH344YfWHXfcYdntdsuyLCshIcEaM2aMZVmWdenSJcvPz8/av3+/03YTExNrrP+HPv74Y0uSdfHixVqPAeBeXh7OVgAMcu+992rgwIFau3athg8fri+//FL79u3Tjh07JEnXr1/X4sWLtWHDBp05c0bl5eUqLy9X27ZtnbYTHR192/fauHGjUlNT9cUXX+jSpUu6du2a2rVr59Snc+fO6tSpk2M9JiZGlZWVOnnypIKDg536Hjt2TFeuXHFcBrupoqJC/fr1u2UdeXl5evnll5Wfn69vv/1WlZWVkqTCwkL16tXrtvsBwP0INwDcKjExUdOmTdOKFSuUkZGh8PBwxcbGSpKWLVum1157TampqbrvvvvUtm1bzZw50zFp+KYfhp0fOnDggB5//HEtWLBAI0eOVEBAgNavX69ly5bVOM5mszn97/fdDCVbt27Vj370I6fXbjWR+fLly4qLi1NcXJzWrVunjh07qrCwUCNHjqyyTwAaD+EGgFv94he/0IwZM/T222/rzTff1C9/+UtHmNi3b5/GjBmjp556StKNQHHq1Cn17NmzTu/x0UcfKTw8XC+88IKjrbq7tAoLC3X27FmFhoZKunFL+h133KEePXpU6durVy/5+vqqsLBQQ4cOrVUdJ06c0Llz57R48WKFhYVJknJzc+u0LwDcj3ADwK3uvPNOjR8/XvPnz1dpaanT5Npu3bopKytL+/fv1913362UlBQVFxfXOdx069ZNhYWFWr9+vR588EFt3bpVmzdvrtLPz89PCQkJWrp0qcrKyjR9+nT94he/qHJJSroxQTk5OVmzZs1SZWWlBg0apLKyMu3fv1933nmnEhISqozp3LmzfHx89G//9m+aMmWKjh49qoULF9ZpXwC4H3dLAXC7xMREXbhwQT/5yU/UuXNnR/uLL76o/v37a+TIkRo2bJiCg4Nd+oXgMWPGaNasWZo2bZr69u2r/fv368UXX6zSr1u3bnrssccUHx+vuLg49enTRytXrrzldhcuXKh//ud/1qJFi9SzZ0+NHDlSH3zwgSIiIqrt37FjR2VmZuq9995Tr169tHjxYi1durTO+wPAvWyW9b17NgEAAJo5ztwAAACjEG4AAIBRCDcAAMAohBsAAGAUwg0AADAK4QYAABiFcAMAAIxCuAEAAEYh3AAAAKMQbgAAgFEINwAAwCj/D1sn+GeLPBwYAAAAAElFTkSuQmCC",
=======
      "image/png": "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",
>>>>>>> upstream/main
      "text/plain": [
       "<Figure size 640x480 with 1 Axes>"
      ]
     },
     "metadata": {},
     "output_type": "display_data"
    }
   ],
   "source": [
    "# Compute a histogram\n",
    "# You can edit the number of bins with plt.hist(x = randomvar_a)\n",
    "\n",
    "randomvar_x = np.random.normal(loc=0, scale=1, size=1000)\n",
    "\n",
    "plt.hist(x = randomvar_x)\n",
    "plt.xlabel(\"Variable a\")\n",
    "plt.ylabel(\"Frequency\")"
   ]
  },
  {
   "attachments": {},
   "cell_type": "markdown",
   "metadata": {},
   "source": [
    "<font size = \"5\">\n",
    "\n",
    "Try this again with $size = 100, 1000, 10000$"
   ]
  },
  {
   "cell_type": "code",
<<<<<<< HEAD
   "execution_count": 36,
=======
   "execution_count": 64,
>>>>>>> upstream/main
   "metadata": {},
   "outputs": [
    {
     "data": {
      "text/plain": [
       "Text(0, 0.5, 'Frequency')"
      ]
     },
<<<<<<< HEAD
     "execution_count": 36,
=======
     "execution_count": 64,
>>>>>>> upstream/main
     "metadata": {},
     "output_type": "execute_result"
    },
    {
     "data": {
<<<<<<< HEAD
      "image/png": "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",
=======
      "image/png": "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",
>>>>>>> upstream/main
      "text/plain": [
       "<Figure size 640x480 with 1 Axes>"
      ]
     },
     "metadata": {},
     "output_type": "display_data"
    }
   ],
   "source": [
    "# Write the code for your histogram\n",
    "\n",
<<<<<<< HEAD
    "randomvar_x = np.random.normal(loc=0, scale=1, size=10000)\n",
    "\n",
    "plt.hist(x = randomvar_x)\n",
    "plt.xlabel(\"Variable a\")\n",
    "plt.ylabel(\"Frequency\")\n"
=======
    "# Compute a histogram\n",
    "# You can edit the number of bins with plt.hist(x = randomvar_a)\n",
    "\n",
    "randomvar_x = np.random.normal(loc=0, scale=1, size=10000)\n",
    "\n",
    "plt.hist(x = randomvar_x)\n",
    "plt.xlabel(\"Variable a\")\n",
    "\n",
    "plt.ylabel(\"Frequency\")\n",
    "\n"
>>>>>>> upstream/main
   ]
  },
  {
   "attachments": {},
   "cell_type": "markdown",
   "metadata": {},
   "source": [
    "# <span style=\"color:darkblue\"> Additional Resources </span>\n",
    "\n",
    "<font size=\"5\"> \n",
    "\n",
    "Check out additional examples at:\n",
    "\n",
    "- https://allendowney.github.io/ElementsOfDataScience/03_arrays.html\n",
    "\n",
    "\n"
   ]
  },
  {
   "cell_type": "markdown",
   "metadata": {},
   "source": [
    "<font size = \"20\">\n",
    "\n",
    "asdasd\n"
   ]
  },
  {
   "attachments": {},
   "cell_type": "markdown",
   "metadata": {},
   "source": [
    "# <span style=\"color:darkblue\"> (Optional) Matrix Operations </span>\n",
    "\n",
    "<font size=\"5\"> \n"
   ]
  },
  {
   "attachments": {},
   "cell_type": "markdown",
   "metadata": {},
   "source": [
    "<font size = \"5\">\n",
    "Creating a matrix by stacking different rows\n",
    "\n",
    "$ \\text{ }$\n",
    "\n",
    "$ X = \\begin{pmatrix} 1 & 2 & 3 \\\\ \n",
    "                       0 & 4 & 5 \\\\\n",
    "                       0 & 0 & 6\n",
    "                       \\end{pmatrix} $"
   ]
  },
  {
   "cell_type": "code",
<<<<<<< HEAD
   "execution_count": 38,
=======
   "execution_count": 65,
>>>>>>> upstream/main
   "metadata": {},
   "outputs": [
    {
     "name": "stdout",
     "output_type": "stream",
     "text": [
      "[[1 2 3]\n",
      " [0 4 5]\n",
      " [0 0 6]]\n"
     ]
    }
   ],
   "source": [
    "# Matrices are usually denoted by capital letters\n",
    "# The object [[1,2,3],[4,5,6],[7,8,9]] is a list of lists\n",
    "# It's useful to maintain this notation in the code as well\n",
    "\n",
    "X = np.array([[1,2,3],[0,4,5],[0,0,6]])\n",
    "print(X)"
   ]
  },
  {
   "attachments": {},
   "cell_type": "markdown",
   "metadata": {},
   "source": [
    "<font size = \"5\">\n",
    "Creating a matrix by stacking different columns\n",
    "\n",
    "$ \\text{ } $\n",
    "\n",
    "$ Y = \\begin{pmatrix} 1 & 2 \\\\ 0 & 1 \\\\ 1 & 0 \\end{pmatrix}$"
   ]
  },
  {
   "cell_type": "code",
   "execution_count": 39,
   "metadata": {},
   "outputs": [
    {
     "name": "stdout",
     "output_type": "stream",
     "text": [
      "[[1 2]\n",
      " [0 1]\n",
      " [1 0]]\n"
     ]
    }
   ],
   "source": [
    "# You can also stack columns\n",
    "Y =  np.column_stack([[1,0,1],[2,1,0]])\n",
    "print(Y)"
   ]
  },
  {
   "attachments": {},
   "cell_type": "markdown",
   "metadata": {},
   "source": [
    "<font size = \"5\">\n",
    "Transpose\n",
    "\n",
    "$ \\text{ }$\n",
    "\n",
    "$ Y' = \\begin{pmatrix}  1 & 0 & 1 \\\\ 2 & 1 & 0  \\end{pmatrix} $"
   ]
  },
  {
   "cell_type": "code",
   "execution_count": 40,
   "metadata": {},
   "outputs": [
    {
     "data": {
      "text/plain": [
       "array([[1, 0, 1],\n",
       "       [2, 1, 0]])"
      ]
     },
     "execution_count": 40,
     "metadata": {},
     "output_type": "execute_result"
    }
   ],
   "source": [
    "# Matrix Transpose\n",
    "np.matrix.transpose(Y)"
   ]
  },
  {
   "attachments": {},
   "cell_type": "markdown",
   "metadata": {},
   "source": [
    "<font size = \"5\">\n",
    "\n",
    "Matrix multiplication\n",
    "\n",
    "$ XY = \\begin{pmatrix} 1 & 2 & 3 \\\\ \n",
    "                       0 & 4 & 5 \\\\\n",
    "                       0 & 0 & 6\n",
    "                       \\end{pmatrix}\n",
    "                       \\begin{pmatrix} 1 & 2 \\\\ 0 & 1 \\\\ 1 & 0 \\end{pmatrix} = \n",
    "        \\begin{pmatrix} 4 & 4 \\\\ 5 & 4 \\\\ 6 & 0 \\end{pmatrix} $"
   ]
  },
  {
   "cell_type": "code",
   "execution_count": 43,
   "metadata": {},
   "outputs": [
    {
     "data": {
      "text/plain": [
       "array([[4, 4],\n",
       "       [5, 4],\n",
       "       [6, 0]])"
      ]
     },
     "execution_count": 43,
     "metadata": {},
     "output_type": "execute_result"
    }
   ],
   "source": [
    "# Matrix Multiplication\n",
    "\n",
    "np.dot(X,Y)\n",
    "\n",
    "np.matmul(X,Y)"
   ]
  },
  {
   "attachments": {},
   "cell_type": "markdown",
   "metadata": {},
   "source": [
    "<font size = \"5\">\n",
    "\n",
    "Matrix inverse\n",
    "\n",
    "$ X^{-1} = \\begin{pmatrix} 1 & 2 & 3 \\\\ \n",
    "                       0 & 4 & 5 \\\\\n",
    "                       0 & 0 & 6\n",
    "                       \\end{pmatrix}^{-1} $"
   ]
  },
  {
   "cell_type": "code",
   "execution_count": 44,
   "metadata": {},
   "outputs": [
    {
     "name": "stdout",
     "output_type": "stream",
     "text": [
      "23.999999999999993\n",
      "[[ 1.         -0.5        -0.08333333]\n",
      " [ 0.          0.25       -0.20833333]\n",
      " [ 0.          0.          0.16666667]]\n"
     ]
    }
   ],
   "source": [
    "# Check the determinant of a matrix (a matrix is invertible if the determinant is not zero)\n",
    "print(np.linalg.det(X))\n",
    "\n",
    "# Matrix inverse\n",
    "# The following command stands for linear algebrar inverse.\n",
    "X_inv = np.linalg.inv(X)\n",
    "\n",
    "# Output the result\n",
    "print(X_inv)\n"
   ]
  },
  {
   "attachments": {},
   "cell_type": "markdown",
   "metadata": {},
   "source": [
    "<font size = \"5\">\n",
    "\n",
    "Try it yourself! Check that this is indeed an inverse:\n",
    "\n",
    "$X X_{inv} = \\begin{pmatrix} 1 & 0 & 0 \\\\ 0 & 1 & 0 \\\\ 0 & 0 & 1 \\end{pmatrix}$"
   ]
  },
  {
   "cell_type": "code",
   "execution_count": 45,
   "metadata": {},
   "outputs": [
    {
     "data": {
      "text/plain": [
       "array([[ 1.00000000e+00,  0.00000000e+00, -2.77555756e-17],\n",
       "       [ 0.00000000e+00,  1.00000000e+00,  2.77555756e-17],\n",
       "       [ 0.00000000e+00,  0.00000000e+00,  1.00000000e+00]])"
      ]
     },
     "execution_count": 45,
     "metadata": {},
     "output_type": "execute_result"
    }
   ],
   "source": [
    "# Multiply \"X\" times \"X_inv\" using the command shown above\n",
    "# Note: Sometimes the result is shown in scientific notation.\n",
    "\n",
    "np.dot(X,X_inv)\n"
   ]
  }
 ],
 "metadata": {
  "kernelspec": {
   "display_name": "base",
   "language": "python",
   "name": "python3"
  },
  "language_info": {
   "codemirror_mode": {
    "name": "ipython",
    "version": 3
   },
   "file_extension": ".py",
   "mimetype": "text/x-python",
   "name": "python",
   "nbconvert_exporter": "python",
   "pygments_lexer": "ipython3",
<<<<<<< HEAD
   "version": "3.11.5"
=======
   "version": "3.9.13"
>>>>>>> upstream/main
  },
  "orig_nbformat": 4,
  "vscode": {
   "interpreter": {
    "hash": "45fc1f684f6f416f40889115beff3ddf69879b64cf4bfee48cb72a61e9d15d1a"
   }
  }
 },
 "nbformat": 4,
 "nbformat_minor": 2
}
